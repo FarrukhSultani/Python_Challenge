{
 "cells": [
  {
   "cell_type": "code",
   "execution_count": 24,
   "id": "33d71577",
   "metadata": {},
   "outputs": [
    {
     "ename": "SyntaxError",
     "evalue": "invalid syntax (4170804102.py, line 6)",
     "output_type": "error",
     "traceback": [
      "\u001b[0;36m  File \u001b[0;32m\"/var/folders/y2/zm53gsnx68x_cmcfjm18bhl40000gn/T/ipykernel_31807/4170804102.py\"\u001b[0;36m, line \u001b[0;32m6\u001b[0m\n\u001b[0;31m    open(csvpath , budget_data.csv) as csvfile\u001b[0m\n\u001b[0m                                     ^\u001b[0m\n\u001b[0;31mSyntaxError\u001b[0m\u001b[0;31m:\u001b[0m invalid syntax\n"
     ]
    }
   ],
   "source": [
    "#Read csv file\n",
    "import os\n",
    "import csv\n",
    "csvpath = os.path.join (\"Resources\", \"budget_data.csv\")\n",
    "print(csvpath)\n",
    "with open(csvpath) as csvfile:\n",
    "    csvreader = csv.reader(csvfile, delimiter=:\",\")\n",
    "\n"
   ]
  },
  {
   "cell_type": "code",
   "execution_count": 18,
   "id": "97fda67c",
   "metadata": {},
   "outputs": [
    {
     "ename": "NameError",
     "evalue": "name 'csvfile' is not defined",
     "output_type": "error",
     "traceback": [
      "\u001b[0;31m---------------------------------------------------------------------------\u001b[0m",
      "\u001b[0;31mNameError\u001b[0m                                 Traceback (most recent call last)",
      "\u001b[0;32m/var/folders/y2/zm53gsnx68x_cmcfjm18bhl40000gn/T/ipykernel_31807/1368412159.py\u001b[0m in \u001b[0;36m<module>\u001b[0;34m\u001b[0m\n\u001b[1;32m      1\u001b[0m \u001b[0;31m# printing headers\u001b[0m\u001b[0;34m\u001b[0m\u001b[0;34m\u001b[0m\u001b[0;34m\u001b[0m\u001b[0m\n\u001b[0;32m----> 2\u001b[0;31m \u001b[0mcsv_header\u001b[0m \u001b[0;34m=\u001b[0m \u001b[0mnext\u001b[0m\u001b[0;34m(\u001b[0m\u001b[0mcsvfile\u001b[0m\u001b[0;34m)\u001b[0m\u001b[0;34m\u001b[0m\u001b[0;34m\u001b[0m\u001b[0m\n\u001b[0m\u001b[1;32m      3\u001b[0m \u001b[0mcsvfile\u001b[0m \u001b[0;34m=\u001b[0m \u001b[0mcsvpath\u001b[0m\u001b[0;34m\u001b[0m\u001b[0;34m\u001b[0m\u001b[0m\n\u001b[1;32m      4\u001b[0m \u001b[0mprint\u001b[0m\u001b[0;34m(\u001b[0m\u001b[0;34m\"Header:{csv_header}\"\u001b[0m\u001b[0;34m)\u001b[0m\u001b[0;34m\u001b[0m\u001b[0;34m\u001b[0m\u001b[0m\n\u001b[1;32m      5\u001b[0m \u001b[0mprint\u001b[0m\u001b[0;34m(\u001b[0m\u001b[0;34m\"Financial Analysis\"\u001b[0m\u001b[0;34m)\u001b[0m\u001b[0;34m\u001b[0m\u001b[0;34m\u001b[0m\u001b[0m\n",
      "\u001b[0;31mNameError\u001b[0m: name 'csvfile' is not defined"
     ]
    }
   ],
   "source": [
    "# printing headers\n",
    "csv_header = next(csvfile)\n",
    "csvfile = csvpath\n",
    "print(\"Header:{csv_header}\")\n",
    "print(\"Financial Analysis\")\n",
    "print(\"Total Months: \")\n",
    "print(\"Total: \")\n",
    "print(\"Average Change: \")\n",
    "print(\"Greatest Increase in Profits: \")\n",
    "print(\"Greatest Decrease in Profits: \")\n",
    "\n"
   ]
  },
  {
   "cell_type": "code",
   "execution_count": 20,
   "id": "6bba560c",
   "metadata": {},
   "outputs": [
    {
     "ename": "SyntaxError",
     "evalue": "invalid syntax (4185217801.py, line 14)",
     "output_type": "error",
     "traceback": [
      "\u001b[0;36m  File \u001b[0;32m\"/var/folders/y2/zm53gsnx68x_cmcfjm18bhl40000gn/T/ipykernel_31807/4185217801.py\"\u001b[0;36m, line \u001b[0;32m14\u001b[0m\n\u001b[0;31m    increase=(\"month\": \"\",\"profit\":0)\u001b[0m\n\u001b[0m                     ^\u001b[0m\n\u001b[0;31mSyntaxError\u001b[0m\u001b[0;31m:\u001b[0m invalid syntax\n"
     ]
    }
   ],
   "source": [
    "#defining variables\n",
    "Total_months = ([month_counts])\n",
    "month_counts = 0\n",
    "Total = (Average (Total))\n",
    "Total = 0\n",
    "Average_Change = 0\n",
    "date=()\n",
    "date.append()\n",
    "profit = 0\n",
    "previous_profit=0\n",
    "difference=0\n",
    "total_difference=0\n",
    "loss=0\n",
    "increase=(\"month\": \"\",\"profit\":0)\n",
    "decrease=(\"month\": \"\",\"profit\", \"loss\")\n",
    "\n"
   ]
  },
  {
   "cell_type": "code",
   "execution_count": null,
   "id": "c3a53d9b",
   "metadata": {},
   "outputs": [],
   "source": [
    "#The total number of months included in the dataset\n",
    "csvpath.reader for rows(A2:A87)\n",
    "month_counts = 0\n",
    "month_counts + =1\n",
    "Total + = int(row[A2:A87])\n",
    "\n"
   ]
  },
  {
   "cell_type": "code",
   "execution_count": 1,
   "id": "d9bb9c60",
   "metadata": {},
   "outputs": [
    {
     "ename": "SyntaxError",
     "evalue": "invalid syntax (579666150.py, line 2)",
     "output_type": "error",
     "traceback": [
      "\u001b[0;36m  File \u001b[0;32m\"/var/folders/y2/zm53gsnx68x_cmcfjm18bhl40000gn/T/ipykernel_31807/579666150.py\"\u001b[0;36m, line \u001b[0;32m2\u001b[0m\n\u001b[0;31m    date=() for (row[A])\u001b[0m\n\u001b[0m              ^\u001b[0m\n\u001b[0;31mSyntaxError\u001b[0m\u001b[0;31m:\u001b[0m invalid syntax\n"
     ]
    }
   ],
   "source": [
    "#The net total amount of \"Profit/Losses\" over the entire period\n",
    "date=() for (row[A])\n",
    "profit = int(row[B])\n",
    "profit.append(profit)\n",
    "\n",
    "\n"
   ]
  },
  {
   "cell_type": "code",
   "execution_count": null,
   "id": "222cce10",
   "metadata": {},
   "outputs": [],
   "source": [
    "#The changes in \"Profit/Losses\" over the entire period, and then the average of those changes\n",
    "difference=0\n",
    "if previous_profit=0\n",
    "    difference= profit-previous_profit\n",
    "    difference.append()\n",
    "    previous_profit = profit\n",
    "    average_change = sum(difference) / len(difference)\n"
   ]
  },
  {
   "cell_type": "code",
   "execution_count": 22,
   "id": "44077b99",
   "metadata": {},
   "outputs": [
    {
     "ename": "SyntaxError",
     "evalue": "invalid syntax (3156871394.py, line 2)",
     "output_type": "error",
     "traceback": [
      "\u001b[0;36m  File \u001b[0;32m\"/var/folders/y2/zm53gsnx68x_cmcfjm18bhl40000gn/T/ipykernel_31807/3156871394.py\"\u001b[0;36m, line \u001b[0;32m2\u001b[0m\n\u001b[0;31m    if difference > increase[\"profit\"]\u001b[0m\n\u001b[0m                                      ^\u001b[0m\n\u001b[0;31mSyntaxError\u001b[0m\u001b[0;31m:\u001b[0m invalid syntax\n"
     ]
    }
   ],
   "source": [
    "#The greatest increase in profits (date and amount) over the entire period\n",
    "if difference > increase[\"profit\"]\n",
    "    increase[\"profit\"] = difference\n",
    "    increase [\"month\"] = row [A]\n"
   ]
  },
  {
   "cell_type": "code",
   "execution_count": 21,
   "id": "55a54b1f",
   "metadata": {},
   "outputs": [
    {
     "ename": "SyntaxError",
     "evalue": "invalid syntax (1732796848.py, line 2)",
     "output_type": "error",
     "traceback": [
      "\u001b[0;36m  File \u001b[0;32m\"/var/folders/y2/zm53gsnx68x_cmcfjm18bhl40000gn/T/ipykernel_31807/1732796848.py\"\u001b[0;36m, line \u001b[0;32m2\u001b[0m\n\u001b[0;31m    if difference < decrease[\"loss\"]\u001b[0m\n\u001b[0m                                    ^\u001b[0m\n\u001b[0;31mSyntaxError\u001b[0m\u001b[0;31m:\u001b[0m invalid syntax\n"
     ]
    }
   ],
   "source": [
    "#The greatest decrease in profits (date and amount) over the entire period\n",
    "if difference < decrease[\"loss\"]\n",
    "    decrease[\"loss\"] = difference\n",
    "    decrease [\"month\"] = row [A]"
   ]
  },
  {
   "cell_type": "markdown",
   "id": "cc805d5f",
   "metadata": {},
   "source": [
    "\n"
   ]
  }
 ],
 "metadata": {
  "kernelspec": {
   "display_name": "PythonData",
   "language": "python",
   "name": "pythondata"
  },
  "language_info": {
   "codemirror_mode": {
    "name": "ipython",
    "version": 3
   },
   "file_extension": ".py",
   "mimetype": "text/x-python",
   "name": "python",
   "nbconvert_exporter": "python",
   "pygments_lexer": "ipython3",
   "version": "3.7.7"
  }
 },
 "nbformat": 4,
 "nbformat_minor": 5
}
